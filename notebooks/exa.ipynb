{
 "cells": [
  {
   "cell_type": "markdown",
   "metadata": {},
   "source": [
    "### Welcome to exa! Let's get started"
   ]
  },
  {
   "cell_type": "code",
   "execution_count": 1,
   "metadata": {
    "collapsed": false
   },
   "outputs": [],
   "source": [
    "import pandas as pd\n",
    "import numpy as np\n",
    "import exa"
   ]
  },
  {
   "cell_type": "markdown",
   "metadata": {},
   "source": [
    "### You might be familiar with pandas"
   ]
  },
  {
   "cell_type": "code",
   "execution_count": 2,
   "metadata": {
    "collapsed": false
   },
   "outputs": [
    {
     "data": {
      "text/html": [
       "<div>\n",
       "<table border=\"1\" class=\"dataframe\">\n",
       "  <thead>\n",
       "    <tr style=\"text-align: right;\">\n",
       "      <th></th>\n",
       "      <th>x</th>\n",
       "      <th>y</th>\n",
       "    </tr>\n",
       "  </thead>\n",
       "  <tbody>\n",
       "    <tr>\n",
       "      <th>0</th>\n",
       "      <td>0.0</td>\n",
       "      <td>0.906796</td>\n",
       "    </tr>\n",
       "    <tr>\n",
       "      <th>1</th>\n",
       "      <td>1.0</td>\n",
       "      <td>0.448143</td>\n",
       "    </tr>\n",
       "    <tr>\n",
       "      <th>2</th>\n",
       "      <td>2.0</td>\n",
       "      <td>0.105326</td>\n",
       "    </tr>\n",
       "    <tr>\n",
       "      <th>3</th>\n",
       "      <td>3.0</td>\n",
       "      <td>0.010824</td>\n",
       "    </tr>\n",
       "    <tr>\n",
       "      <th>4</th>\n",
       "      <td>4.0</td>\n",
       "      <td>0.244684</td>\n",
       "    </tr>\n",
       "  </tbody>\n",
       "</table>\n",
       "</div>"
      ],
      "text/plain": [
       "     x         y\n",
       "0  0.0  0.906796\n",
       "1  1.0  0.448143\n",
       "2  2.0  0.105326\n",
       "3  3.0  0.010824\n",
       "4  4.0  0.244684"
      ]
     },
     "execution_count": 2,
     "metadata": {},
     "output_type": "execute_result"
    }
   ],
   "source": [
    "x = np.linspace(0, 10, 11)\n",
    "y = np.random.rand(11)\n",
    "df1 = pd.DataFrame.from_dict({'x': x, 'y': y})\n",
    "df1.head()"
   ]
  },
  {
   "cell_type": "markdown",
   "metadata": {},
   "source": [
    "### DataFrames are great! Usually you can find a way to represent your data in a single dataframe"
   ]
  },
  {
   "cell_type": "code",
   "execution_count": 3,
   "metadata": {
    "collapsed": false
   },
   "outputs": [
    {
     "data": {
      "text/html": [
       "<div>\n",
       "<table border=\"1\" class=\"dataframe\">\n",
       "  <thead>\n",
       "    <tr style=\"text-align: right;\">\n",
       "      <th></th>\n",
       "      <th>x</th>\n",
       "      <th>y</th>\n",
       "      <th>zi</th>\n",
       "      <th>zj</th>\n",
       "      <th>zk</th>\n",
       "    </tr>\n",
       "  </thead>\n",
       "  <tbody>\n",
       "    <tr>\n",
       "      <th>0</th>\n",
       "      <td>0.0</td>\n",
       "      <td>0.906796</td>\n",
       "      <td>0.733138</td>\n",
       "      <td>0.396978</td>\n",
       "      <td>0.448463</td>\n",
       "    </tr>\n",
       "    <tr>\n",
       "      <th>1</th>\n",
       "      <td>1.0</td>\n",
       "      <td>0.448143</td>\n",
       "      <td>0.413719</td>\n",
       "      <td>0.755660</td>\n",
       "      <td>0.719040</td>\n",
       "    </tr>\n",
       "    <tr>\n",
       "      <th>2</th>\n",
       "      <td>2.0</td>\n",
       "      <td>0.105326</td>\n",
       "      <td>0.173512</td>\n",
       "      <td>0.154888</td>\n",
       "      <td>0.757688</td>\n",
       "    </tr>\n",
       "    <tr>\n",
       "      <th>3</th>\n",
       "      <td>3.0</td>\n",
       "      <td>0.010824</td>\n",
       "      <td>0.730557</td>\n",
       "      <td>0.718124</td>\n",
       "      <td>0.229439</td>\n",
       "    </tr>\n",
       "    <tr>\n",
       "      <th>4</th>\n",
       "      <td>4.0</td>\n",
       "      <td>0.244684</td>\n",
       "      <td>0.055820</td>\n",
       "      <td>0.428332</td>\n",
       "      <td>0.083746</td>\n",
       "    </tr>\n",
       "  </tbody>\n",
       "</table>\n",
       "</div>"
      ],
      "text/plain": [
       "     x         y        zi        zj        zk\n",
       "0  0.0  0.906796  0.733138  0.396978  0.448463\n",
       "1  1.0  0.448143  0.413719  0.755660  0.719040\n",
       "2  2.0  0.105326  0.173512  0.154888  0.757688\n",
       "3  3.0  0.010824  0.730557  0.718124  0.229439\n",
       "4  4.0  0.244684  0.055820  0.428332  0.083746"
      ]
     },
     "execution_count": 3,
     "metadata": {},
     "output_type": "execute_result"
    }
   ],
   "source": [
    "df1 = pd.DataFrame.from_dict({'x': x, 'y': y})\n",
    "b = pd.DataFrame(np.random.rand(11, 3))\n",
    "b.columns = ['zi', 'zj', 'zk']\n",
    "pd.concat([df1, b], axis=1).head()"
   ]
  },
  {
   "cell_type": "markdown",
   "metadata": {},
   "source": [
    "### Sometimes data doesn't fit nicely into a single dataframe"
   ]
  },
  {
   "cell_type": "code",
   "execution_count": 4,
   "metadata": {
    "collapsed": false
   },
   "outputs": [
    {
     "name": "stdout",
     "output_type": "stream",
     "text": [
      "   dxi  dyj  nx  ny   ox   oy\n",
      "0  0.4  0.4  15  15 -3.0 -3.0\n"
     ]
    },
    {
     "data": {
      "text/html": [
       "<div>\n",
       "<table border=\"1\" class=\"dataframe\">\n",
       "  <thead>\n",
       "    <tr style=\"text-align: right;\">\n",
       "      <th></th>\n",
       "      <th>f1</th>\n",
       "      <th>f2</th>\n",
       "    </tr>\n",
       "  </thead>\n",
       "  <tbody>\n",
       "    <tr>\n",
       "      <th>0</th>\n",
       "      <td>0.126503</td>\n",
       "      <td>0.827317</td>\n",
       "    </tr>\n",
       "    <tr>\n",
       "      <th>1</th>\n",
       "      <td>0.389927</td>\n",
       "      <td>0.768678</td>\n",
       "    </tr>\n",
       "    <tr>\n",
       "      <th>2</th>\n",
       "      <td>0.388104</td>\n",
       "      <td>0.187729</td>\n",
       "    </tr>\n",
       "    <tr>\n",
       "      <th>3</th>\n",
       "      <td>0.408751</td>\n",
       "      <td>0.614016</td>\n",
       "    </tr>\n",
       "    <tr>\n",
       "      <th>4</th>\n",
       "      <td>0.011289</td>\n",
       "      <td>0.499478</td>\n",
       "    </tr>\n",
       "  </tbody>\n",
       "</table>\n",
       "</div>"
      ],
      "text/plain": [
       "         f1        f2\n",
       "0  0.126503  0.827317\n",
       "1  0.389927  0.768678\n",
       "2  0.388104  0.187729\n",
       "3  0.408751  0.614016\n",
       "4  0.011289  0.499478"
      ]
     },
     "execution_count": 4,
     "metadata": {},
     "output_type": "execute_result"
    }
   ],
   "source": [
    "array_params = pd.DataFrame.from_dict({'ox': [-3.0], 'oy': [-3.0], \n",
    "                                       'nx': [15],   'ny': [15],\n",
    "                                      'dxi': [0.4], 'dyj': [0.4]})\n",
    "array_values = pd.DataFrame.from_dict({'f1': (np.random.rand(15 * 15)),\n",
    "                                       'f2': (np.random.rand(15 * 15))})\n",
    "print(array_params)\n",
    "array_values.head()"
   ]
  },
  {
   "cell_type": "raw",
   "metadata": {},
   "source": [
    "array_params stores the data to generate (x, y) coordinates\n",
    "array_values stores the data of some functions f1(x, y), f2(x, y) "
   ]
  },
  {
   "cell_type": "markdown",
   "metadata": {},
   "source": [
    "### The exa Container links dataframes together with minimal effort"
   ]
  },
  {
   "cell_type": "code",
   "execution_count": 5,
   "metadata": {
    "collapsed": true
   },
   "outputs": [],
   "source": [
    "class Param(exa.DataFrame):\n",
    "    _indices = ['param_index'] # Set as the dataframe's index\n",
    "    \n",
    "class Value(exa.DataFrame):\n",
    "    _columns = ['param_index'] # Set as a REQUIRED column in the dataframe's construction"
   ]
  },
  {
   "cell_type": "code",
   "execution_count": 6,
   "metadata": {
    "collapsed": false
   },
   "outputs": [],
   "source": [
    "array_params.index.name = 'param_index'\n",
    "array_values['param_index'] = 0\n",
    "t = exa.Container(params=Param(array_params), values=Value(array_values))"
   ]
  },
  {
   "cell_type": "markdown",
   "metadata": {},
   "source": [
    "### The network() method shows you a network graph of the relationships in your data"
   ]
  },
  {
   "cell_type": "code",
   "execution_count": 7,
   "metadata": {
    "collapsed": false
   },
   "outputs": [
    {
     "data": {
      "image/png": "[encoded data removed]",
      "text/plain": [
       "<matplotlib.figure.Figure at 0x19837a189b0>"
      ]
     },
     "metadata": {},
     "output_type": "display_data"
    }
   ],
   "source": [
    "t.network()"
   ]
  },
  {
   "cell_type": "markdown",
   "metadata": {},
   "source": [
    "### There are idx-col and col-col relationships, as well as other class attributes\n",
    "\n",
    "#### Categories are efficient if your data has a small number of possible values but normally require special attention\n",
    "#### with the _categories attribute, they require no special attention"
   ]
  },
  {
   "cell_type": "code",
   "execution_count": 8,
   "metadata": {
    "collapsed": true
   },
   "outputs": [],
   "source": [
    "class CatDF(exa.DataFrame):\n",
    "    _categories = {'cat1': str, 'cat2': np.int64}"
   ]
  },
  {
   "cell_type": "code",
   "execution_count": 9,
   "metadata": {
    "collapsed": false
   },
   "outputs": [
    {
     "name": "stdout",
     "output_type": "stream",
     "text": [
      "cat1    category\n",
      "cat2    category\n",
      "dtype: object\n"
     ]
    },
    {
     "data": {
      "text/html": [
       "<div>\n",
       "<table border=\"1\" class=\"dataframe\">\n",
       "  <thead>\n",
       "    <tr style=\"text-align: right;\">\n",
       "      <th></th>\n",
       "      <th>cat1</th>\n",
       "      <th>cat2</th>\n",
       "    </tr>\n",
       "  </thead>\n",
       "  <tbody>\n",
       "    <tr>\n",
       "      <th>0</th>\n",
       "      <td>foo</td>\n",
       "      <td>0</td>\n",
       "    </tr>\n",
       "    <tr>\n",
       "      <th>1</th>\n",
       "      <td>foo</td>\n",
       "      <td>0</td>\n",
       "    </tr>\n",
       "    <tr>\n",
       "      <th>2</th>\n",
       "      <td>foo</td>\n",
       "      <td>0</td>\n",
       "    </tr>\n",
       "    <tr>\n",
       "      <th>3</th>\n",
       "      <td>foo</td>\n",
       "      <td>0</td>\n",
       "    </tr>\n",
       "    <tr>\n",
       "      <th>4</th>\n",
       "      <td>foo</td>\n",
       "      <td>0</td>\n",
       "    </tr>\n",
       "  </tbody>\n",
       "</table>\n",
       "</div>"
      ],
      "text/plain": [
       "  cat1 cat2\n",
       "0  foo    0\n",
       "1  foo    0\n",
       "2  foo    0\n",
       "3  foo    0\n",
       "4  foo    0"
      ]
     },
     "execution_count": 9,
     "metadata": {},
     "output_type": "execute_result"
    }
   ],
   "source": [
    "# Note that the pandas API remains intact\n",
    "c = CatDF.from_dict({'cat1': ['foo'] * 30 + ['bar'] * 40, 'cat2': [0] * 18 + [1] * 13 + [2] * 39})\n",
    "print(c.dtypes)\n",
    "c.head()"
   ]
  },
  {
   "cell_type": "markdown",
   "metadata": {},
   "source": [
    "### There are attributes for _groupbys, _traits, _precision allowing for automatic passing to JS widgets"
   ]
  },
  {
   "cell_type": "code",
   "execution_count": 10,
   "metadata": {
    "collapsed": true
   },
   "outputs": [],
   "source": [
    "class TraitDF(exa.DataFrame):\n",
    "    _traits = ['f1', 'f2']\n",
    "    _precision = {'f1': 8, 'f2': 3}"
   ]
  },
  {
   "cell_type": "code",
   "execution_count": 11,
   "metadata": {
    "collapsed": false
   },
   "outputs": [],
   "source": [
    "tr = exa.Container(values=TraitDF(array_values))"
   ]
  },
  {
   "cell_type": "code",
   "execution_count": 12,
   "metadata": {
    "collapsed": false
   },
   "outputs": [
    {
     "data": {
      "text/plain": [
       "<exa.container.Container at 0x19837cb9588>"
      ]
     },
     "execution_count": 12,
     "metadata": {},
     "output_type": "execute_result"
    }
   ],
   "source": [
    "tr"
   ]
  },
  {
   "cell_type": "code",
   "execution_count": 13,
   "metadata": {
    "collapsed": false
   },
   "outputs": [
    {
     "data": {
      "text/plain": [
       "False"
      ]
     },
     "execution_count": 13,
     "metadata": {},
     "output_type": "execute_result"
    }
   ],
   "source": [
    "tr._traits_need_update"
   ]
  },
  {
   "cell_type": "code",
   "execution_count": 14,
   "metadata": {
    "collapsed": false
   },
   "outputs": [
    {
     "data": {
      "text/plain": [
       "'[0.827,0.769,0.188,0.614,0.499,0.942,0.252,0.173,0.374,0.207,0.317,0.549,0.169,0.607,0.351,0.854,0.048,0.446,0.617,0.891,0.029,0.556,0.621,0.812,0.36,0.154,0.902,0.821,0.876,0.497,0.479,0.839,0.643,0.222,0.472,0.586,0.115,0.821,0.232,0.959,0.237,0.722,0.679,0.496,0.865,0.893,0.529,0.856,0.272,0.66,0.935,0.275,0.604,0.399,0.334,0.656,0.771,0.044,0.758,0.725,0.508,0.408,0.129,0.102,0.687,0.735,0.221,0.119,0.19,0.049,0.2,0.217,0.716,0.297,0.085,0.025,0.163,0.537,0.628,0.815,0.58,0.154,0.24,0.93,0.275,0.935,0.669,0.125,0.925,0.357,0.314,0.449,0.556,0.062,0.37,0.472,0.969,0.867,0.291,0.233,0.09,0.826,0.157,0.411,0.228,0.758,0.235,0.419,0.033,0.019,0.605,0.358,0.58,0.255,0.066,0.719,0.425,0.406,0.796,0.304,0.858,0.972,0.817,0.063,0.789,0.635,0.369,0.192,0.464,0.002,0.088,0.804,0.427,0.882,0.933,0.942,0.628,0.326,0.488,0.523,0.335,0.852,0.222,0.38,0.233,0.457,0.866,0.409,0.03,0.342,0.558,0.991,0.148,0.987,0.646,0.544,0.553,0.827,0.467,0.654,0.477,0.101,0.35,0.364,0.193,0.265,0.875,0.925,0.219,0.936,0.098,0.771,0.797,0.994,0.919,0.9,0.518,0.167,0.937,0.186,0.019,0.273,0.239,0.893,0.283,0.343,0.806,0.207,0.514,0.027,0.818,0.51,0.911,0.406,0.973,0.679,0.289,0.622,0.782,0.699,0.258,0.329,0.733,0.409,0.751,0.258,0.651,0.398,0.941,0.255,0.396,0.054,0.936,0.782,0.041,0.394,0.566,0.529,0.784,0.854,0.561,0.583,0.379,0.344,0.308]'"
      ]
     },
     "execution_count": 14,
     "metadata": {},
     "output_type": "execute_result"
    }
   ],
   "source": [
    "tr._widget.traitdf_f2"
   ]
  },
  {
   "cell_type": "code",
   "execution_count": 15,
   "metadata": {
    "collapsed": true
   },
   "outputs": [],
   "source": [
    "class GroupDF(exa.DataFrame):\n",
    "    _columns = ['f1', 'f2']\n",
    "    _traits = ['f1', 'f2']\n",
    "    _precision = {'f1': 2, 'f2': 2}\n",
    "    _groupbys = ['grp']"
   ]
  },
  {
   "cell_type": "code",
   "execution_count": 16,
   "metadata": {
    "collapsed": false
   },
   "outputs": [],
   "source": [
    "array_values['grp'] = np.repeat(range(15), 15)\n",
    "gr = exa.Container(values=GroupDF(array_values))\n",
    "gr._update_traits()"
   ]
  },
  {
   "cell_type": "code",
   "execution_count": 17,
   "metadata": {
    "collapsed": false
   },
   "outputs": [
    {
     "data": {
      "text/plain": [
       "'[[0.83,0.77,0.19,0.61,0.5,0.94,0.25,0.17,0.37,0.21,0.32,0.55,0.17,0.61,0.35],[0.85,0.05,0.45,0.62,0.89,0.03,0.56,0.62,0.81,0.36,0.15,0.9,0.82,0.88,0.5],[0.48,0.84,0.64,0.22,0.47,0.59,0.11,0.82,0.23,0.96,0.24,0.72,0.68,0.5,0.87],[0.89,0.53,0.86,0.27,0.66,0.93,0.28,0.6,0.4,0.33,0.66,0.77,0.04,0.76,0.72],[0.51,0.41,0.13,0.1,0.69,0.74,0.22,0.12,0.19,0.05,0.2,0.22,0.72,0.3,0.09],[0.03,0.16,0.54,0.63,0.82,0.58,0.15,0.24,0.93,0.28,0.93,0.67,0.13,0.92,0.36],[0.31,0.45,0.56,0.06,0.37,0.47,0.97,0.87,0.29,0.23,0.09,0.83,0.16,0.41,0.23],[0.76,0.23,0.42,0.03,0.02,0.6,0.36,0.58,0.26,0.07,0.72,0.43,0.41,0.8,0.3],[0.86,0.97,0.82,0.06,0.79,0.63,0.37,0.19,0.46,0.0,0.09,0.8,0.43,0.88,0.93],[0.94,0.63,0.33,0.49,0.52,0.33,0.85,0.22,0.38,0.23,0.46,0.87,0.41,0.03,0.34],[0.56,0.99,0.15,0.99,0.65,0.54,0.55,0.83,0.47,0.65,0.48,0.1,0.35,0.36,0.19],[0.27,0.88,0.93,0.22,0.94,0.1,0.77,0.8,0.99,0.92,0.9,0.52,0.17,0.94,0.19],[0.02,0.27,0.24,0.89,0.28,0.34,0.81,0.21,0.51,0.03,0.82,0.51,0.91,0.41,0.97],[0.68,0.29,0.62,0.78,0.7,0.26,0.33,0.73,0.41,0.75,0.26,0.65,0.4,0.94,0.25],[0.4,0.05,0.94,0.78,0.04,0.39,0.57,0.53,0.78,0.85,0.56,0.58,0.38,0.34,0.31]]'"
      ]
     },
     "execution_count": 17,
     "metadata": {},
     "output_type": "execute_result"
    }
   ],
   "source": [
    "gr._widget.groupdf_f2"
   ]
  },
  {
   "cell_type": "markdown",
   "metadata": {},
   "source": [
    "### Trait data is passed to JS for viewing in a widget with a rather capable app utilizing Three.JS and WebGL"
   ]
  },
  {
   "cell_type": "code",
   "execution_count": 18,
   "metadata": {
    "collapsed": false
   },
   "outputs": [
    {
     "data": {
      "text/plain": [
       "<exa.container.Container at 0x1983b0aa978>"
      ]
     },
     "execution_count": 18,
     "metadata": {},
     "output_type": "execute_result"
    },
    {
     "name": "stdout",
     "output_type": "stream",
     "text": [
      "dict_keys(['type', 'app', 'content', 'data'])\n"
     ]
    }
   ],
   "source": [
    "exa.Container()"
   ]
  },
  {
   "cell_type": "markdown",
   "metadata": {},
   "source": [
    "### The real power is in crafting a container specific to the needs of a data set"
   ]
  },
  {
   "cell_type": "markdown",
   "metadata": {
    "collapsed": true
   },
   "source": [
    "### There is also an Editor class that makes repetitive file I/O tasks simpler"
   ]
  },
  {
   "cell_type": "code",
   "execution_count": 19,
   "metadata": {
    "collapsed": false
   },
   "outputs": [
    {
     "data": {
      "text/plain": [
       "  0: {\n",
       "  1:  \"cells\": [\n",
       "  2:   {\n",
       "  3:    \"cell_type\": \"markdown\",\n",
       "  4:    \"metadata\": {},\n",
       "  5:    \"source\": [\n",
       "  6:     \"### Welcome to exa! Let's get started\"\n",
       "  7:    ]\n",
       "  8:   },\n",
       "  9:   {\n",
       " 10:    \"cell_type\": \"code\",\n",
       " 11:    \"execution_count\": 1,\n",
       " 12:    \"metadata\": {\n",
       " 13:     \"collapsed\": false\n",
       " 14:    },\n",
       " 15:    \"outputs\": [],\n",
       " 16:    \"source\": [\n",
       " 17:     \"import pandas as pd\\n\",\n",
       " 18:     \"import numpy as np\\n\",\n",
       " 19:     \"import exa\"\n",
       " 20:    ]\n",
       " 21:   },\n",
       " 22:   {\n",
       " 23:    \"cell_type\": \"markdown\",\n",
       " 24:    \"metadata\": {},\n",
       " 25:    \"source\": [\n",
       " 26:     \"### You might be familiar with pandas\"\n",
       " 27:    ]\n",
       " 28:   },\n",
       " 29:   {\n",
       "...\n",
       "764:    \"execution_count\": null,\n",
       "765:    \"metadata\": {\n",
       "766:     \"collapsed\": true\n",
       "767:    },\n",
       "768:    \"outputs\": [],\n",
       "769:    \"source\": []\n",
       "770:   }\n",
       "771:  ],\n",
       "772:  \"metadata\": {\n",
       "773:   \"kernelspec\": {\n",
       "774:    \"display_name\": \"Python 3\",\n",
       "775:    \"language\": \"python\",\n",
       "776:    \"name\": \"python3\"\n",
       "777:   },\n",
       "778:   \"language_info\": {\n",
       "779:    \"codemirror_mode\": {\n",
       "780:     \"name\": \"ipython\",\n",
       "781:     \"version\": 3\n",
       "782:    },\n",
       "783:    \"file_extension\": \".py\",\n",
       "784:    \"mimetype\": \"text/x-python\",\n",
       "785:    \"name\": \"python\",\n",
       "786:    \"nbconvert_exporter\": \"python\",\n",
       "787:    \"pygments_lexer\": \"ipython3\",\n",
       "788:    \"version\": \"3.5.1\"\n",
       "789:   }\n",
       "790:  },\n",
       "791:  \"nbformat\": 4,\n",
       "792:  \"nbformat_minor\": 0\n",
       "793: }"
      ]
     },
     "execution_count": 19,
     "metadata": {},
     "output_type": "execute_result"
    }
   ],
   "source": [
    "s = exa.Editor('exa_demo.ipynb')    # Before you run this cell, save the notebook!\n",
    "s"
   ]
  },
  {
   "cell_type": "code",
   "execution_count": 20,
   "metadata": {
    "collapsed": false
   },
   "outputs": [
    {
     "data": {
      "text/plain": [
       "{'exa_demo.ipynb': OrderedDict([(733,\n",
       "               '    \"s = exa.Editor(\\'exa_demo.ipynb\\')    # Before you run this cell, save the notebook!\\\\n\",'),\n",
       "              (747, '       \"{\\'exa_demo.ipynb\\': OrderedDict([(733,\\\\n\",'),\n",
       "              (748,\n",
       "               '       \"               \\'    \\\\\"s = exa.Editor(\\\\\\\\\\'exa_demo.ipynb\\\\\\\\\\')\\\\\\\\\\\\\\\\n\\\\\",\\'),\\\\n\",'),\n",
       "              (749,\n",
       "               '       \"              (747, \\'       \\\\\"{\\\\\\\\\\'exa_demo.ipynb\\\\\\\\\\': OrderedDict()}\\\\\"\\'),\\\\n\",'),\n",
       "              (750,\n",
       "               '       \"              (756, \\'    \\\\\"s.find(\\\\\\\\\\'exa_demo.ipynb\\\\\\\\\\')\\\\\"\\')])}\"'),\n",
       "              (759, '    \"s.find(\\'exa_demo.ipynb\\')\"')])}"
      ]
     },
     "execution_count": 20,
     "metadata": {},
     "output_type": "execute_result"
    }
   ],
   "source": [
    "s.find('exa_demo.ipynb')"
   ]
  },
  {
   "cell_type": "code",
   "execution_count": null,
   "metadata": {
    "collapsed": true
   },
   "outputs": [],
   "source": []
  },
  {
   "cell_type": "code",
   "execution_count": null,
   "metadata": {
    "collapsed": true
   },
   "outputs": [],
   "source": []
  }
 ],
 "metadata": {
  "kernelspec": {
   "display_name": "Python 3",
   "language": "python",
   "name": "python3"
  },
  "language_info": {
   "codemirror_mode": {
    "name": "ipython",
    "version": 3
   },
   "file_extension": ".py",
   "mimetype": "text/x-python",
   "name": "python",
   "nbconvert_exporter": "python",
   "pygments_lexer": "ipython3",
   "version": "3.5.1"
  }
 },
 "nbformat": 4,
 "nbformat_minor": 0
}
